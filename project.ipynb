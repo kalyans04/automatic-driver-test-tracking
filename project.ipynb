{
  "cells": [
    {
      "cell_type": "markdown",
      "metadata": {
        "id": "view-in-github",
        "colab_type": "text"
      },
      "source": [
        "<a href=\"https://colab.research.google.com/github/kalyans04/automatic-driver-test-tracking/blob/main/project.ipynb\" target=\"_parent\"><img src=\"https://colab.research.google.com/assets/colab-badge.svg\" alt=\"Open In Colab\"/></a>"
      ]
    },
    {
      "cell_type": "code",
      "execution_count": null,
      "metadata": {
        "colab": {
          "base_uri": "https://localhost:8080/"
        },
        "id": "oIG63IiWEXF9",
        "outputId": "73f8c8dd-7b38-44f1-8d3e-a2c5688f3a80"
      },
      "outputs": [
        {
          "output_type": "stream",
          "name": "stdout",
          "text": [
            "Fri Nov 24 04:44:43 2023       \n",
            "+-----------------------------------------------------------------------------+\n",
            "| NVIDIA-SMI 525.105.17   Driver Version: 525.105.17   CUDA Version: 12.0     |\n",
            "|-------------------------------+----------------------+----------------------+\n",
            "| GPU  Name        Persistence-M| Bus-Id        Disp.A | Volatile Uncorr. ECC |\n",
            "| Fan  Temp  Perf  Pwr:Usage/Cap|         Memory-Usage | GPU-Util  Compute M. |\n",
            "|                               |                      |               MIG M. |\n",
            "|===============================+======================+======================|\n",
            "|   0  Tesla T4            Off  | 00000000:00:04.0 Off |                    0 |\n",
            "| N/A   44C    P8     9W /  70W |      0MiB / 15360MiB |      0%      Default |\n",
            "|                               |                      |                  N/A |\n",
            "+-------------------------------+----------------------+----------------------+\n",
            "                                                                               \n",
            "+-----------------------------------------------------------------------------+\n",
            "| Processes:                                                                  |\n",
            "|  GPU   GI   CI        PID   Type   Process name                  GPU Memory |\n",
            "|        ID   ID                                                   Usage      |\n",
            "|=============================================================================|\n",
            "|  No running processes found                                                 |\n",
            "+-----------------------------------------------------------------------------+\n"
          ]
        }
      ],
      "source": [
        "!nvidia-smi"
      ]
    },
    {
      "cell_type": "code",
      "source": [
        "from google.colab import drive\n",
        "drive.mount('/content/drive')"
      ],
      "metadata": {
        "colab": {
          "base_uri": "https://localhost:8080/"
        },
        "id": "MN3JZe6QFkrL",
        "outputId": "7e9c5a5f-be20-4d0a-db9c-299084236002"
      },
      "execution_count": null,
      "outputs": [
        {
          "output_type": "stream",
          "name": "stdout",
          "text": [
            "Mounted at /content/drive\n"
          ]
        }
      ]
    },
    {
      "cell_type": "code",
      "execution_count": null,
      "metadata": {
        "colab": {
          "base_uri": "https://localhost:8080/"
        },
        "id": "eun3Oy5IFD6q",
        "outputId": "2b0f6577-1869-4cbc-c62d-a06bc680b854"
      },
      "outputs": [
        {
          "output_type": "stream",
          "name": "stdout",
          "text": [
            "/content\n"
          ]
        }
      ],
      "source": [
        "import os\n",
        "HOME=os.getcwd()\n",
        "print(HOME)"
      ]
    },
    {
      "cell_type": "code",
      "execution_count": null,
      "metadata": {
        "id": "anyhWRIaMCWB"
      },
      "outputs": [],
      "source": [
        "SOURCE_VIDEO_PATH ='/content/drive/MyDrive/Proje/pro3.mp4'"
      ]
    },
    {
      "cell_type": "code",
      "execution_count": null,
      "metadata": {
        "colab": {
          "base_uri": "https://localhost:8080/"
        },
        "id": "cSeN7Q9uRbaE",
        "outputId": "069d1e88-194b-4f38-da84-1c8ef9506234"
      },
      "outputs": [
        {
          "output_type": "stream",
          "name": "stderr",
          "text": [
            "Ultralytics YOLOv8.0.10 🚀 Python-3.10.12 torch-2.1.0+cu118 CUDA:0 (Tesla T4, 15102MiB)\n",
            "Setup complete ✅ (2 CPUs, 12.7 GB RAM, 26.9/78.2 GB disk)\n"
          ]
        }
      ],
      "source": [
        " !pip install ultralytics==8.0.10\n",
        " from IPython import display\n",
        " display.clear_output()\n",
        " import ultralytics\n",
        " ultralytics.checks()"
      ]
    },
    {
      "cell_type": "code",
      "execution_count": null,
      "metadata": {
        "id": "5H0A9X8SJmNr"
      },
      "outputs": [],
      "source": [
        "# from google.colab import drive\n",
        "# drive.mount('/content/drive')"
      ]
    },
    {
      "cell_type": "code",
      "execution_count": null,
      "metadata": {
        "colab": {
          "base_uri": "https://localhost:8080/"
        },
        "id": "8Z2k2wDpLHTy",
        "outputId": "af46fd96-22d8-4dab-b496-720136394c8e"
      },
      "outputs": [
        {
          "output_type": "stream",
          "name": "stdout",
          "text": [
            "supervision.__version__: 0.1.0\n"
          ]
        }
      ],
      "source": [
        "!pip install supervision==0.1.0\n",
        "from IPython import display\n",
        "display.clear_output()\n",
        "import supervision\n",
        "print(\"supervision.__version__:\", supervision.__version__)"
      ]
    },
    {
      "cell_type": "code",
      "execution_count": null,
      "metadata": {
        "id": "gCvTlPSJPaxB"
      },
      "outputs": [],
      "source": [
        "from supervision.draw.color import ColorPalette\n",
        "from supervision.geometry.dataclasses import Point\n",
        "from supervision.video.dataclasses import VideoInfo\n",
        "from supervision.video.source import get_video_frames_generator\n",
        "\n",
        "from supervision.notebook.utils import show_frame_in_notebook\n",
        "from supervision.tools.detections import Detections, BoxAnnotator\n",
        "from supervision.tools.line_counter import LineCounter, LineCounterAnnotator"
      ]
    },
    {
      "cell_type": "code",
      "execution_count": null,
      "metadata": {
        "id": "ywWPY0rDA2KV"
      },
      "outputs": [],
      "source": [
        "model1=\"yolov8x.pt\""
      ]
    },
    {
      "cell_type": "code",
      "execution_count": null,
      "metadata": {
        "colab": {
          "base_uri": "https://localhost:8080/"
        },
        "id": "7TRgE_FEKbGd",
        "outputId": "7fb2cc30-6b15-473c-b1b0-00e825b00eb4"
      },
      "outputs": [
        {
          "output_type": "stream",
          "name": "stderr",
          "text": [
            "Downloading https://github.com/ultralytics/assets/releases/download/v0.0.0/yolov8x.pt to yolov8x.pt...\n",
            "100%|██████████| 131M/131M [00:00<00:00, 350MB/s]\n",
            "\n",
            "Fusing... \n",
            "YOLOv8x summary: 268 layers, 68200608 parameters, 0 gradients, 257.8 GFLOPs\n"
          ]
        }
      ],
      "source": [
        "from ultralytics import YOLO\n",
        "model=YOLO(model1)\n",
        "model.fuse()"
      ]
    },
    {
      "cell_type": "code",
      "execution_count": null,
      "metadata": {
        "id": "xVMrZBesKbQU"
      },
      "outputs": [],
      "source": [
        "#!yolo task=detect mode=predict model=yolov8x.pt conf=0.25 source={SOURCE_VIDEO_PATH}"
      ]
    },
    {
      "cell_type": "code",
      "execution_count": null,
      "metadata": {
        "colab": {
          "base_uri": "https://localhost:8080/"
        },
        "id": "bm-V-U4N1uEo",
        "outputId": "657919d3-aa75-4b01-fff1-90a6ca847f39"
      },
      "outputs": [
        {
          "output_type": "execute_result",
          "data": {
            "text/plain": [
              "VideoInfo(width=720, height=1280, fps=30, total_frames=456)"
            ]
          },
          "metadata": {},
          "execution_count": 12
        }
      ],
      "source": [
        "from supervision.video.dataclasses import VideoInfo\n",
        "VideoInfo.from_video_path(SOURCE_VIDEO_PATH)"
      ]
    },
    {
      "cell_type": "code",
      "execution_count": null,
      "metadata": {
        "colab": {
          "base_uri": "https://localhost:8080/"
        },
        "id": "i6dLDzNp_i7G",
        "outputId": "25753e27-464e-4717-ff05-17eea3dd0a56"
      },
      "outputs": [
        {
          "output_type": "stream",
          "name": "stdout",
          "text": [
            "{0: 'person', 1: 'bicycle', 2: 'car', 3: 'motorcycle', 4: 'airplane', 5: 'bus', 6: 'train', 7: 'truck', 8: 'boat', 9: 'traffic light', 10: 'fire hydrant', 11: 'stop sign', 12: 'parking meter', 13: 'bench', 14: 'bird', 15: 'cat', 16: 'dog', 17: 'horse', 18: 'sheep', 19: 'cow', 20: 'elephant', 21: 'bear', 22: 'zebra', 23: 'giraffe', 24: 'backpack', 25: 'umbrella', 26: 'handbag', 27: 'tie', 28: 'suitcase', 29: 'frisbee', 30: 'skis', 31: 'snowboard', 32: 'sports ball', 33: 'kite', 34: 'baseball bat', 35: 'baseball glove', 36: 'skateboard', 37: 'surfboard', 38: 'tennis racket', 39: 'bottle', 40: 'wine glass', 41: 'cup', 42: 'fork', 43: 'knife', 44: 'spoon', 45: 'bowl', 46: 'banana', 47: 'apple', 48: 'sandwich', 49: 'orange', 50: 'broccoli', 51: 'carrot', 52: 'hot dog', 53: 'pizza', 54: 'donut', 55: 'cake', 56: 'chair', 57: 'couch', 58: 'potted plant', 59: 'bed', 60: 'dining table', 61: 'toilet', 62: 'tv', 63: 'laptop', 64: 'mouse', 65: 'remote', 66: 'keyboard', 67: 'cell phone', 68: 'microwave', 69: 'oven', 70: 'toaster', 71: 'sink', 72: 'refrigerator', 73: 'book', 74: 'clock', 75: 'vase', 76: 'scissors', 77: 'teddy bear', 78: 'hair drier', 79: 'toothbrush'}\n"
          ]
        }
      ],
      "source": [
        "CLASS_NAMES_DICT=model.model.names\n",
        "print(model.model.names)"
      ]
    },
    {
      "cell_type": "code",
      "execution_count": null,
      "metadata": {
        "id": "z7yUsiF8_jDW"
      },
      "outputs": [],
      "source": [
        "TARGET_VIDEO_PATH=f\"{HOME}/lane_frame_detect1.mp4\""
      ]
    },
    {
      "cell_type": "code",
      "execution_count": null,
      "metadata": {
        "colab": {
          "base_uri": "https://localhost:8080/",
          "height": 49,
          "referenced_widgets": [
            "ff253f64411e4408b249b9078ba0c100",
            "abe30d8a7e56454a9c52d2a5dad8165d",
            "b2b930b85be3423d8df1d09834cd2547",
            "8abc0ea96c034eeeaa75857c7d68442d",
            "b7c00ebe037e45729171fb7e45f610ca",
            "ad43babbba7e41e3b019c1f265b529ee",
            "01fa1115d0d945ccbe6559ee8c1ef147",
            "8758842f1d2148fcb14aab26984f08e0",
            "ab7ebc626c534d758a1d0ee7b49e6739",
            "a538cb74148d490cb6d196eaa799c399",
            "5ae4c7c3bb61429fa7c1f5891cc68560"
          ]
        },
        "id": "EBzFSmGT9mam",
        "outputId": "08ba7c66-dfc6-40ac-f59d-cf49329ef86b"
      },
      "outputs": [
        {
          "output_type": "display_data",
          "data": {
            "text/plain": [
              "  0%|          | 0/1064 [00:00<?, ?it/s]"
            ],
            "application/vnd.jupyter.widget-view+json": {
              "version_major": 2,
              "version_minor": 0,
              "model_id": "ff253f64411e4408b249b9078ba0c100"
            }
          },
          "metadata": {}
        }
      ],
      "source": [
        "from supervision.video.source import get_video_frames_generator\n",
        "from supervision.notebook.utils import show_frame_in_notebook\n",
        "from supervision.tools.detections import Detections, BoxAnnotator\n",
        "from supervision.draw.color import ColorPalette\n",
        "import math\n",
        "from tqdm.notebook import tqdm\n",
        "from supervision.video.sink import VideoSink\n",
        "from scipy.spatial import distance as dist\n",
        "import numpy as np\n",
        "import sys\n",
        "import cv2\n",
        "l1=[]\n",
        "generator=get_video_frames_generator(SOURCE_VIDEO_PATH)\n",
        "video_info=VideoInfo.from_video_path(SOURCE_VIDEO_PATH)\n",
        "max1=sys.maxsize\n",
        "max2=sys.maxsize\n",
        "with VideoSink(TARGET_VIDEO_PATH, video_info) as sink:\n",
        "    for frame in tqdm(generator, total=video_info.total_frames):\n",
        "      results=model(frame)[0]\n",
        "      detections=Detections(\n",
        "          xyxy=results.boxes.xyxy.cpu().numpy(),\n",
        "          confidence=results.boxes.conf.cpu().numpy(),\n",
        "          class_id=results.boxes.cls.cpu().numpy().astype(int),\n",
        "      )\n",
        "      new_detections=[]\n",
        "      for _,confidence,class_id,tracker_id in detections:\n",
        "        # print(_,confidence,class_id,tracker_id)\n",
        "        if(class_id==2 or class_id ==5 or class_id==7):\n",
        "          l1=[]\n",
        "          l1.append(_)\n",
        "          new_detections.append(l1)\n",
        "          break\n",
        "      for i in new_detections:\n",
        "        for j in i:\n",
        "          # print(j)\n",
        "          x1=int(j[0])\n",
        "          y1=int(j[1])\n",
        "          x3=int(j[2])\n",
        "          y3=int(j[3])\n",
        "          # print(x1,y1,x3,y3)\n",
        "          roi_vertices = [\n",
        "            ((int((x1+x3)/2)-500),y3+150),  # Bottom-left\n",
        "            ((int((x1+x3)/2)-500),y1),  # Top-left\n",
        "            (int((x1+x3)/2),y1),  # Top-right\n",
        "            (int((x1+x3)/2),(y3+150)),  # Bottom-right\n",
        "          ]\n",
        "          roi_vertices1 = [\n",
        "            ((int((x1+x3)/2)+500),y3+150),  # Bottom-right\n",
        "            ((int((x1+x3)/2)+500),y1),  # Top-right\n",
        "            (int((x1+x3)/2),y1),  # Top-left\n",
        "            (int((x1+x3)/2),(y3+150)),  # Bottom-left\n",
        "          ]\n",
        "          # cv.circle(frame, (a, y3-70), 10, (255, 0, 255), -1)  # -1 means fill the circle\n",
        "          # cv.rectangle(frame,((int((x1+x3)/2)-500),y1),(int((x1+x3)/2),(y3+150)), (255, 255, 0), 5)\n",
        "          cv2.rectangle(frame,(x1,y1),(x3,y3), (0, 255, 0), 4)\n",
        "          # Create an empty mask with the same dimensions as the image\n",
        "          mask = np.zeros_like(frame)\n",
        "\n",
        "          # Fill the ROI polygon with white color (255, 255, 255)\n",
        "          cv2.fillPoly(mask, [np.array(roi_vertices)], (255, 255, 255))\n",
        "          cv2.fillPoly(mask, [np.array(roi_vertices1)], (255, 255, 255))\n",
        "          # Bitwise AND the original image and the mask to isolate the ROI\n",
        "          roi_image = cv2.bitwise_and(frame, mask)\n",
        "          roi_image1 = cv2.bitwise_and(frame, mask)\n",
        "          gray = cv2.cvtColor(roi_image, cv2.COLOR_BGR2GRAY)\n",
        "          gray1 = cv2.cvtColor(roi_image1, cv2.COLOR_BGR2GRAY)\n",
        "          # Apply Gaussian blur to reduce noise and enhance edges\n",
        "          blurred = cv2.GaussianBlur(gray, (7, 7), 0)\n",
        "          blurred1 = cv2.GaussianBlur(gray1, (7, 7), 0)\n",
        "          # Perform edge detection using Canny\n",
        "          edges = cv2.Canny(blurred, 100, 150)\n",
        "          edges1 = cv2.Canny(blurred1, 100, 150)\n",
        "          # Find lines in the image using Hough Line Transform\n",
        "          lines = cv2.HoughLinesP(edges, 1, np.pi / 180, threshold=50, minLineLength=50, maxLineGap=10)\n",
        "          lines1 = cv2.HoughLinesP(edges1, 1, np.pi / 180, threshold=50, minLineLength=50, maxLineGap=10)\n",
        "          for line in lines:\n",
        "            x, y, x2, y2 = line[0]\n",
        "            if((x>(((x1+x3)/2)-500) and x<x1 and y<(y3+150) and y>y1) and (x2>(((x1+x3)/2)-500) and x2<x1 and y2<(y3+150) and y2>y1)):\n",
        "              a1,b1=(x+x2)/2,(y+y2)/2\n",
        "              a2,b2=(x1+x3)/2,(y1+y3)/2\n",
        "              p1=(a1,b1)\n",
        "              p2=(a2,b2)\n",
        "              if(math.sqrt((a2-a1)**2+(b2-b1)**2)<320):\n",
        "                cv2.line(frame, (x, y), (x2, y2), (255, 0, 0), 5)\n",
        "                sink.write_frame(frame)\n",
        "          for line in lines1:\n",
        "            x, y, x2, y2 = line[0]\n",
        "            if((x<(((x1+x3)/2)+500) and x>x3 and y<(y3+150) and y>y3) and (x2<(((x1+x3)/2)+500) and x2>x3 and y2<(y3+150) and y2>y1)):\n",
        "              a1,b1=(x+x2)/2,(y+y2)/2\n",
        "              a2,b2=(x1+x3)/2,(y1+y3)/2\n",
        "              p1=(a1,b1)\n",
        "              p2=(a2,b2)\n",
        "              if(math.sqrt((a2-a1)**2+(b2-b1)**2)<320):\n",
        "                cv2.line(frame, (x, y), (x2, y2), (255, 0, 0), 5)\n",
        "                sink.write_frame(frame)"
      ]
    },
    {
      "cell_type": "code",
      "source": [],
      "metadata": {
        "id": "jYwqGvWmowsC"
      },
      "execution_count": null,
      "outputs": []
    },
    {
      "cell_type": "code",
      "source": [],
      "metadata": {
        "id": "AF4RRfULxRlD"
      },
      "execution_count": null,
      "outputs": []
    }
  ],
  "metadata": {
    "accelerator": "GPU",
    "colab": {
      "provenance": [],
      "gpuType": "T4",
      "include_colab_link": true
    },
    "kernelspec": {
      "display_name": "Python 3",
      "name": "python3"
    },
    "language_info": {
      "name": "python"
    },
    "widgets": {
      "application/vnd.jupyter.widget-state+json": {
        "ff253f64411e4408b249b9078ba0c100": {
          "model_module": "@jupyter-widgets/controls",
          "model_name": "HBoxModel",
          "model_module_version": "1.5.0",
          "state": {
            "_dom_classes": [],
            "_model_module": "@jupyter-widgets/controls",
            "_model_module_version": "1.5.0",
            "_model_name": "HBoxModel",
            "_view_count": null,
            "_view_module": "@jupyter-widgets/controls",
            "_view_module_version": "1.5.0",
            "_view_name": "HBoxView",
            "box_style": "",
            "children": [
              "IPY_MODEL_abe30d8a7e56454a9c52d2a5dad8165d",
              "IPY_MODEL_b2b930b85be3423d8df1d09834cd2547",
              "IPY_MODEL_8abc0ea96c034eeeaa75857c7d68442d"
            ],
            "layout": "IPY_MODEL_b7c00ebe037e45729171fb7e45f610ca"
          }
        },
        "abe30d8a7e56454a9c52d2a5dad8165d": {
          "model_module": "@jupyter-widgets/controls",
          "model_name": "HTMLModel",
          "model_module_version": "1.5.0",
          "state": {
            "_dom_classes": [],
            "_model_module": "@jupyter-widgets/controls",
            "_model_module_version": "1.5.0",
            "_model_name": "HTMLModel",
            "_view_count": null,
            "_view_module": "@jupyter-widgets/controls",
            "_view_module_version": "1.5.0",
            "_view_name": "HTMLView",
            "description": "",
            "description_tooltip": null,
            "layout": "IPY_MODEL_ad43babbba7e41e3b019c1f265b529ee",
            "placeholder": "​",
            "style": "IPY_MODEL_01fa1115d0d945ccbe6559ee8c1ef147",
            "value": "100%"
          }
        },
        "b2b930b85be3423d8df1d09834cd2547": {
          "model_module": "@jupyter-widgets/controls",
          "model_name": "FloatProgressModel",
          "model_module_version": "1.5.0",
          "state": {
            "_dom_classes": [],
            "_model_module": "@jupyter-widgets/controls",
            "_model_module_version": "1.5.0",
            "_model_name": "FloatProgressModel",
            "_view_count": null,
            "_view_module": "@jupyter-widgets/controls",
            "_view_module_version": "1.5.0",
            "_view_name": "ProgressView",
            "bar_style": "success",
            "description": "",
            "description_tooltip": null,
            "layout": "IPY_MODEL_8758842f1d2148fcb14aab26984f08e0",
            "max": 1064,
            "min": 0,
            "orientation": "horizontal",
            "style": "IPY_MODEL_ab7ebc626c534d758a1d0ee7b49e6739",
            "value": 1064
          }
        },
        "8abc0ea96c034eeeaa75857c7d68442d": {
          "model_module": "@jupyter-widgets/controls",
          "model_name": "HTMLModel",
          "model_module_version": "1.5.0",
          "state": {
            "_dom_classes": [],
            "_model_module": "@jupyter-widgets/controls",
            "_model_module_version": "1.5.0",
            "_model_name": "HTMLModel",
            "_view_count": null,
            "_view_module": "@jupyter-widgets/controls",
            "_view_module_version": "1.5.0",
            "_view_name": "HTMLView",
            "description": "",
            "description_tooltip": null,
            "layout": "IPY_MODEL_a538cb74148d490cb6d196eaa799c399",
            "placeholder": "​",
            "style": "IPY_MODEL_5ae4c7c3bb61429fa7c1f5891cc68560",
            "value": " 1064/1064 [03:02&lt;00:00,  7.03it/s]"
          }
        },
        "b7c00ebe037e45729171fb7e45f610ca": {
          "model_module": "@jupyter-widgets/base",
          "model_name": "LayoutModel",
          "model_module_version": "1.2.0",
          "state": {
            "_model_module": "@jupyter-widgets/base",
            "_model_module_version": "1.2.0",
            "_model_name": "LayoutModel",
            "_view_count": null,
            "_view_module": "@jupyter-widgets/base",
            "_view_module_version": "1.2.0",
            "_view_name": "LayoutView",
            "align_content": null,
            "align_items": null,
            "align_self": null,
            "border": null,
            "bottom": null,
            "display": null,
            "flex": null,
            "flex_flow": null,
            "grid_area": null,
            "grid_auto_columns": null,
            "grid_auto_flow": null,
            "grid_auto_rows": null,
            "grid_column": null,
            "grid_gap": null,
            "grid_row": null,
            "grid_template_areas": null,
            "grid_template_columns": null,
            "grid_template_rows": null,
            "height": null,
            "justify_content": null,
            "justify_items": null,
            "left": null,
            "margin": null,
            "max_height": null,
            "max_width": null,
            "min_height": null,
            "min_width": null,
            "object_fit": null,
            "object_position": null,
            "order": null,
            "overflow": null,
            "overflow_x": null,
            "overflow_y": null,
            "padding": null,
            "right": null,
            "top": null,
            "visibility": null,
            "width": null
          }
        },
        "ad43babbba7e41e3b019c1f265b529ee": {
          "model_module": "@jupyter-widgets/base",
          "model_name": "LayoutModel",
          "model_module_version": "1.2.0",
          "state": {
            "_model_module": "@jupyter-widgets/base",
            "_model_module_version": "1.2.0",
            "_model_name": "LayoutModel",
            "_view_count": null,
            "_view_module": "@jupyter-widgets/base",
            "_view_module_version": "1.2.0",
            "_view_name": "LayoutView",
            "align_content": null,
            "align_items": null,
            "align_self": null,
            "border": null,
            "bottom": null,
            "display": null,
            "flex": null,
            "flex_flow": null,
            "grid_area": null,
            "grid_auto_columns": null,
            "grid_auto_flow": null,
            "grid_auto_rows": null,
            "grid_column": null,
            "grid_gap": null,
            "grid_row": null,
            "grid_template_areas": null,
            "grid_template_columns": null,
            "grid_template_rows": null,
            "height": null,
            "justify_content": null,
            "justify_items": null,
            "left": null,
            "margin": null,
            "max_height": null,
            "max_width": null,
            "min_height": null,
            "min_width": null,
            "object_fit": null,
            "object_position": null,
            "order": null,
            "overflow": null,
            "overflow_x": null,
            "overflow_y": null,
            "padding": null,
            "right": null,
            "top": null,
            "visibility": null,
            "width": null
          }
        },
        "01fa1115d0d945ccbe6559ee8c1ef147": {
          "model_module": "@jupyter-widgets/controls",
          "model_name": "DescriptionStyleModel",
          "model_module_version": "1.5.0",
          "state": {
            "_model_module": "@jupyter-widgets/controls",
            "_model_module_version": "1.5.0",
            "_model_name": "DescriptionStyleModel",
            "_view_count": null,
            "_view_module": "@jupyter-widgets/base",
            "_view_module_version": "1.2.0",
            "_view_name": "StyleView",
            "description_width": ""
          }
        },
        "8758842f1d2148fcb14aab26984f08e0": {
          "model_module": "@jupyter-widgets/base",
          "model_name": "LayoutModel",
          "model_module_version": "1.2.0",
          "state": {
            "_model_module": "@jupyter-widgets/base",
            "_model_module_version": "1.2.0",
            "_model_name": "LayoutModel",
            "_view_count": null,
            "_view_module": "@jupyter-widgets/base",
            "_view_module_version": "1.2.0",
            "_view_name": "LayoutView",
            "align_content": null,
            "align_items": null,
            "align_self": null,
            "border": null,
            "bottom": null,
            "display": null,
            "flex": null,
            "flex_flow": null,
            "grid_area": null,
            "grid_auto_columns": null,
            "grid_auto_flow": null,
            "grid_auto_rows": null,
            "grid_column": null,
            "grid_gap": null,
            "grid_row": null,
            "grid_template_areas": null,
            "grid_template_columns": null,
            "grid_template_rows": null,
            "height": null,
            "justify_content": null,
            "justify_items": null,
            "left": null,
            "margin": null,
            "max_height": null,
            "max_width": null,
            "min_height": null,
            "min_width": null,
            "object_fit": null,
            "object_position": null,
            "order": null,
            "overflow": null,
            "overflow_x": null,
            "overflow_y": null,
            "padding": null,
            "right": null,
            "top": null,
            "visibility": null,
            "width": null
          }
        },
        "ab7ebc626c534d758a1d0ee7b49e6739": {
          "model_module": "@jupyter-widgets/controls",
          "model_name": "ProgressStyleModel",
          "model_module_version": "1.5.0",
          "state": {
            "_model_module": "@jupyter-widgets/controls",
            "_model_module_version": "1.5.0",
            "_model_name": "ProgressStyleModel",
            "_view_count": null,
            "_view_module": "@jupyter-widgets/base",
            "_view_module_version": "1.2.0",
            "_view_name": "StyleView",
            "bar_color": null,
            "description_width": ""
          }
        },
        "a538cb74148d490cb6d196eaa799c399": {
          "model_module": "@jupyter-widgets/base",
          "model_name": "LayoutModel",
          "model_module_version": "1.2.0",
          "state": {
            "_model_module": "@jupyter-widgets/base",
            "_model_module_version": "1.2.0",
            "_model_name": "LayoutModel",
            "_view_count": null,
            "_view_module": "@jupyter-widgets/base",
            "_view_module_version": "1.2.0",
            "_view_name": "LayoutView",
            "align_content": null,
            "align_items": null,
            "align_self": null,
            "border": null,
            "bottom": null,
            "display": null,
            "flex": null,
            "flex_flow": null,
            "grid_area": null,
            "grid_auto_columns": null,
            "grid_auto_flow": null,
            "grid_auto_rows": null,
            "grid_column": null,
            "grid_gap": null,
            "grid_row": null,
            "grid_template_areas": null,
            "grid_template_columns": null,
            "grid_template_rows": null,
            "height": null,
            "justify_content": null,
            "justify_items": null,
            "left": null,
            "margin": null,
            "max_height": null,
            "max_width": null,
            "min_height": null,
            "min_width": null,
            "object_fit": null,
            "object_position": null,
            "order": null,
            "overflow": null,
            "overflow_x": null,
            "overflow_y": null,
            "padding": null,
            "right": null,
            "top": null,
            "visibility": null,
            "width": null
          }
        },
        "5ae4c7c3bb61429fa7c1f5891cc68560": {
          "model_module": "@jupyter-widgets/controls",
          "model_name": "DescriptionStyleModel",
          "model_module_version": "1.5.0",
          "state": {
            "_model_module": "@jupyter-widgets/controls",
            "_model_module_version": "1.5.0",
            "_model_name": "DescriptionStyleModel",
            "_view_count": null,
            "_view_module": "@jupyter-widgets/base",
            "_view_module_version": "1.2.0",
            "_view_name": "StyleView",
            "description_width": ""
          }
        }
      }
    }
  },
  "nbformat": 4,
  "nbformat_minor": 0
}